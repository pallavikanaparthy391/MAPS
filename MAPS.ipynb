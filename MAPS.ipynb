{
 "cells": [
  {
   "cell_type": "code",
   "execution_count": 1,
   "id": "050ccd5b",
   "metadata": {},
   "outputs": [
    {
     "name": "stdout",
     "output_type": "stream",
     "text": [
      "Original list:  (1, 2, 3, 4, 5, 6, 7)\n",
      "\n",
      "Triple of said list numbers:\n",
      "[3, 6, 9, 12, 15, 18, 21]\n"
     ]
    }
   ],
   "source": [
    "list1 = (1, 2, 3, 4, 5, 6, 7)                  \n",
    "result = map(lambda x: x + x + x, list1)          \n",
    "print(\"Original list: \", list1)                  \n",
    "print(\"\\nTriple of said list numbers:\")             \n",
    "print(list(result))"
   ]
  },
  {
   "cell_type": "markdown",
   "id": "519323cf",
   "metadata": {},
   "source": [
    "# TEXT CASES"
   ]
  },
  {
   "cell_type": "code",
   "execution_count": null,
   "id": "05377916",
   "metadata": {},
   "outputs": [],
   "source": []
  },
  {
   "cell_type": "code",
   "execution_count": 2,
   "id": "d438b907",
   "metadata": {},
   "outputs": [
    {
     "name": "stdout",
     "output_type": "stream",
     "text": [
      "Original list:  (0.5, 0.1, 0.12, 0.14, 0.15, 0.16, 0.17)\n",
      "\n",
      "Triple of said list numbers:\n",
      "[1.5, 0.30000000000000004, 0.36, 0.42000000000000004, 0.44999999999999996, 0.48, 0.51]\n"
     ]
    }
   ],
   "source": [
    "list1 = (0.5, 0.10, 0.12, 0.14, 0.15, 0.16, 0.17)                  \n",
    "result = map(lambda x: x + x + x, list1)          \n",
    "print(\"Original list: \", list1)                  \n",
    "print(\"\\nTriple of said list numbers:\")             \n",
    "print(list(result))"
   ]
  },
  {
   "cell_type": "code",
   "execution_count": null,
   "id": "ae2c7b9a",
   "metadata": {},
   "outputs": [],
   "source": []
  },
  {
   "cell_type": "code",
   "execution_count": 3,
   "id": "ce8c5312",
   "metadata": {},
   "outputs": [
    {
     "name": "stdout",
     "output_type": "stream",
     "text": [
      "Original list:  (-1, -5, -10, -15, -20, -25, -30)\n",
      "\n",
      "Triple of said list numbers:\n",
      "[-3, -15, -30, -45, -60, -75, -90]\n"
     ]
    }
   ],
   "source": [
    "list1 = (-1, -5, -10, -15, -20, -25, -30)                  \n",
    "result = map(lambda x: x + x + x, list1)          \n",
    "print(\"Original list: \", list1)                  \n",
    "print(\"\\nTriple of said list numbers:\")             \n",
    "print(list(result))"
   ]
  },
  {
   "cell_type": "code",
   "execution_count": null,
   "id": "8d3b857a",
   "metadata": {},
   "outputs": [],
   "source": []
  },
  {
   "cell_type": "code",
   "execution_count": null,
   "id": "07535646",
   "metadata": {},
   "outputs": [],
   "source": []
  },
  {
   "cell_type": "code",
   "execution_count": null,
   "id": "57471e00",
   "metadata": {},
   "outputs": [],
   "source": []
  }
 ],
 "metadata": {
  "kernelspec": {
   "display_name": "Python 3 (ipykernel)",
   "language": "python",
   "name": "python3"
  },
  "language_info": {
   "codemirror_mode": {
    "name": "ipython",
    "version": 3
   },
   "file_extension": ".py",
   "mimetype": "text/x-python",
   "name": "python",
   "nbconvert_exporter": "python",
   "pygments_lexer": "ipython3",
   "version": "3.10.1"
  }
 },
 "nbformat": 4,
 "nbformat_minor": 5
}
